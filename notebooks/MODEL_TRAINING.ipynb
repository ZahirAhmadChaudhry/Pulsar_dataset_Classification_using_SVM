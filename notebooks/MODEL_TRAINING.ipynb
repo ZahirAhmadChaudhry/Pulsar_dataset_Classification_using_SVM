{
 "cells": [
  {
   "cell_type": "code",
   "execution_count": 1,
   "metadata": {},
   "outputs": [
    {
     "data": {
      "text/html": [
       "<div>\n",
       "<style scoped>\n",
       "    .dataframe tbody tr th:only-of-type {\n",
       "        vertical-align: middle;\n",
       "    }\n",
       "\n",
       "    .dataframe tbody tr th {\n",
       "        vertical-align: top;\n",
       "    }\n",
       "\n",
       "    .dataframe thead th {\n",
       "        text-align: right;\n",
       "    }\n",
       "</style>\n",
       "<table border=\"1\" class=\"dataframe\">\n",
       "  <thead>\n",
       "    <tr style=\"text-align: right;\">\n",
       "      <th></th>\n",
       "      <th>Mean of the integrated profile</th>\n",
       "      <th>Standard deviation of the integrated profile</th>\n",
       "      <th>Excess kurtosis of the integrated profile</th>\n",
       "      <th>Skewness of the integrated profile</th>\n",
       "      <th>Mean of the DM-SNR curve</th>\n",
       "      <th>Standard deviation of the DM-SNR curve</th>\n",
       "      <th>Excess kurtosis of the DM-SNR curve</th>\n",
       "      <th>Skewness of the DM-SNR curve</th>\n",
       "      <th>target_class</th>\n",
       "    </tr>\n",
       "  </thead>\n",
       "  <tbody>\n",
       "    <tr>\n",
       "      <th>0</th>\n",
       "      <td>0.406152</td>\n",
       "      <td>0.301691</td>\n",
       "      <td>0.301991</td>\n",
       "      <td>0.568644</td>\n",
       "      <td>0.578213</td>\n",
       "      <td>0.641702</td>\n",
       "      <td>-0.190285</td>\n",
       "      <td>0.637349</td>\n",
       "      <td>0.0</td>\n",
       "    </tr>\n",
       "    <tr>\n",
       "      <th>1</th>\n",
       "      <td>-1.351539</td>\n",
       "      <td>-1.591748</td>\n",
       "      <td>0.513056</td>\n",
       "      <td>0.610542</td>\n",
       "      <td>0.602696</td>\n",
       "      <td>0.674944</td>\n",
       "      <td>0.265557</td>\n",
       "      <td>0.020394</td>\n",
       "      <td>0.0</td>\n",
       "    </tr>\n",
       "    <tr>\n",
       "      <th>2</th>\n",
       "      <td>0.781246</td>\n",
       "      <td>1.055589</td>\n",
       "      <td>0.587776</td>\n",
       "      <td>0.617645</td>\n",
       "      <td>0.591884</td>\n",
       "      <td>0.449872</td>\n",
       "      <td>0.055292</td>\n",
       "      <td>0.557108</td>\n",
       "      <td>0.0</td>\n",
       "    </tr>\n",
       "    <tr>\n",
       "      <th>3</th>\n",
       "      <td>1.556296</td>\n",
       "      <td>0.378216</td>\n",
       "      <td>0.844093</td>\n",
       "      <td>0.596417</td>\n",
       "      <td>0.450837</td>\n",
       "      <td>1.032662</td>\n",
       "      <td>-1.232413</td>\n",
       "      <td>1.016054</td>\n",
       "      <td>0.0</td>\n",
       "    </tr>\n",
       "    <tr>\n",
       "      <th>4</th>\n",
       "      <td>-1.039841</td>\n",
       "      <td>-1.600735</td>\n",
       "      <td>0.617247</td>\n",
       "      <td>0.591027</td>\n",
       "      <td>0.590395</td>\n",
       "      <td>0.542733</td>\n",
       "      <td>0.031313</td>\n",
       "      <td>0.534750</td>\n",
       "      <td>0.0</td>\n",
       "    </tr>\n",
       "  </tbody>\n",
       "</table>\n",
       "</div>"
      ],
      "text/plain": [
       "    Mean of the integrated profile  \\\n",
       "0                         0.406152   \n",
       "1                        -1.351539   \n",
       "2                         0.781246   \n",
       "3                         1.556296   \n",
       "4                        -1.039841   \n",
       "\n",
       "    Standard deviation of the integrated profile  \\\n",
       "0                                       0.301691   \n",
       "1                                      -1.591748   \n",
       "2                                       1.055589   \n",
       "3                                       0.378216   \n",
       "4                                      -1.600735   \n",
       "\n",
       "    Excess kurtosis of the integrated profile  \\\n",
       "0                                    0.301991   \n",
       "1                                    0.513056   \n",
       "2                                    0.587776   \n",
       "3                                    0.844093   \n",
       "4                                    0.617247   \n",
       "\n",
       "    Skewness of the integrated profile   Mean of the DM-SNR curve  \\\n",
       "0                             0.568644                   0.578213   \n",
       "1                             0.610542                   0.602696   \n",
       "2                             0.617645                   0.591884   \n",
       "3                             0.596417                   0.450837   \n",
       "4                             0.591027                   0.590395   \n",
       "\n",
       "    Standard deviation of the DM-SNR curve  \\\n",
       "0                                 0.641702   \n",
       "1                                 0.674944   \n",
       "2                                 0.449872   \n",
       "3                                 1.032662   \n",
       "4                                 0.542733   \n",
       "\n",
       "    Excess kurtosis of the DM-SNR curve   Skewness of the DM-SNR curve  \\\n",
       "0                             -0.190285                       0.637349   \n",
       "1                              0.265557                       0.020394   \n",
       "2                              0.055292                       0.557108   \n",
       "3                             -1.232413                       1.016054   \n",
       "4                              0.031313                       0.534750   \n",
       "\n",
       "   target_class  \n",
       "0           0.0  \n",
       "1           0.0  \n",
       "2           0.0  \n",
       "3           0.0  \n",
       "4           0.0  "
      ]
     },
     "execution_count": 1,
     "metadata": {},
     "output_type": "execute_result"
    }
   ],
   "source": [
    "# importing the dataset\n",
    "import pandas as pd\n",
    "df=pd.read_csv('Datasets/pulsar_data_train_processed.csv')\n",
    "df.head()"
   ]
  },
  {
   "cell_type": "code",
   "execution_count": 3,
   "metadata": {},
   "outputs": [],
   "source": [
    "from sklearn.model_selection import train_test_split\n",
    "from sklearn.svm import SVC\n",
    "from sklearn.metrics import classification_report, accuracy_score\n",
    "\n",
    "# Splitting the dataset into features (X) and target (y)\n",
    "X = df.drop('target_class', axis=1)\n",
    "y = df['target_class']\n",
    "\n",
    "# Splitting the dataset into training and testing sets\n",
    "X_train, X_test, y_train, y_test = train_test_split(X, y, test_size=0.2, random_state=42)\n",
    "\n",
    "# Initializing the SVM classifier with default parameters\n",
    "svm_classifier = SVC(random_state=42)\n",
    "\n",
    "# Training the SVM classifier\n",
    "svm_classifier.fit(X_train, y_train)\n",
    "\n",
    "# Predicting the target values for the test set\n",
    "y_pred = svm_classifier.predict(X_test)\n"
   ]
  },
  {
   "cell_type": "code",
   "execution_count": 4,
   "metadata": {},
   "outputs": [
    {
     "data": {
      "text/plain": [
       "0.9816440542697525"
      ]
     },
     "execution_count": 4,
     "metadata": {},
     "output_type": "execute_result"
    }
   ],
   "source": [
    "# Evaluating the model\n",
    "accuracy = accuracy_score(y_test, y_pred)\n",
    "accuracy"
   ]
  },
  {
   "cell_type": "code",
   "execution_count": 6,
   "metadata": {},
   "outputs": [
    {
     "name": "stdout",
     "output_type": "stream",
     "text": [
      "              precision    recall  f1-score   support\n",
      "\n",
      "         0.0       0.98      1.00      0.99      2279\n",
      "         1.0       0.96      0.83      0.89       227\n",
      "\n",
      "    accuracy                           0.98      2506\n",
      "   macro avg       0.97      0.91      0.94      2506\n",
      "weighted avg       0.98      0.98      0.98      2506\n",
      "\n"
     ]
    }
   ],
   "source": [
    "classification_rep = classification_report(y_test, y_pred)\n",
    "print(classification_rep)"
   ]
  }
 ],
 "metadata": {
  "kernelspec": {
   "display_name": "Python 3",
   "language": "python",
   "name": "python3"
  },
  "language_info": {
   "codemirror_mode": {
    "name": "ipython",
    "version": 3
   },
   "file_extension": ".py",
   "mimetype": "text/x-python",
   "name": "python",
   "nbconvert_exporter": "python",
   "pygments_lexer": "ipython3",
   "version": "3.11.8"
  }
 },
 "nbformat": 4,
 "nbformat_minor": 2
}
