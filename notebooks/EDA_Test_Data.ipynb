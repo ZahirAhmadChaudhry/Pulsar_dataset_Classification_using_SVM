{
 "cells": [
  {
   "cell_type": "code",
   "execution_count": 1,
   "metadata": {},
   "outputs": [],
   "source": [
    "import numpy as np\n",
    "import pandas as pd\n",
    "import seaborn as sns\n",
    "import matplotlib.pyplot as plt\n",
    "import warnings\n",
    "warnings.filterwarnings('ignore')"
   ]
  },
  {
   "cell_type": "code",
   "execution_count": 2,
   "metadata": {},
   "outputs": [],
   "source": [
    "df = pd.read_csv(\"Datasets/pulsar_data_test.csv\")"
   ]
  },
  {
   "cell_type": "code",
   "execution_count": 3,
   "metadata": {},
   "outputs": [
    {
     "data": {
      "text/plain": [
       "(5370, 9)"
      ]
     },
     "execution_count": 3,
     "metadata": {},
     "output_type": "execute_result"
    }
   ],
   "source": [
    "df.shape"
   ]
  },
  {
   "cell_type": "code",
   "execution_count": 4,
   "metadata": {},
   "outputs": [
    {
     "data": {
      "text/plain": [
       " Mean of the integrated profile                    0.000000\n",
       " Standard deviation of the integrated profile      0.000000\n",
       " Excess kurtosis of the integrated profile        14.283054\n",
       " Skewness of the integrated profile                0.000000\n",
       " Mean of the DM-SNR curve                          0.000000\n",
       " Standard deviation of the DM-SNR curve            9.757914\n",
       " Excess kurtosis of the DM-SNR curve               0.000000\n",
       " Skewness of the DM-SNR curve                      4.543762\n",
       "target_class                                     100.000000\n",
       "dtype: float64"
      ]
     },
     "execution_count": 4,
     "metadata": {},
     "output_type": "execute_result"
    }
   ],
   "source": [
    "# Display the percentage of missing values in each column\n",
    "missing_percentage = df.isnull().mean() * 100\n",
    "missing_percentage"
   ]
  },
  {
   "cell_type": "code",
   "execution_count": 5,
   "metadata": {},
   "outputs": [],
   "source": [
    "from sklearn.experimental import enable_iterative_imputer\n",
    "from sklearn.impute import IterativeImputer\n",
    "\n",
    "# Separating features and target variable\n",
    "X = df.drop(\"target_class\", axis=1)\n",
    "y = df[\"target_class\"]\n",
    "\n",
    "# Initialize the imputer\n",
    "df_imputed = IterativeImputer()\n",
    "# Fit and transform the data\n",
    "df_imputed = pd.DataFrame(df_imputed.fit_transform(X), columns=X.columns)"
   ]
  },
  {
   "cell_type": "code",
   "execution_count": 6,
   "metadata": {},
   "outputs": [
    {
     "data": {
      "text/html": [
       "<div>\n",
       "<style scoped>\n",
       "    .dataframe tbody tr th:only-of-type {\n",
       "        vertical-align: middle;\n",
       "    }\n",
       "\n",
       "    .dataframe tbody tr th {\n",
       "        vertical-align: top;\n",
       "    }\n",
       "\n",
       "    .dataframe thead th {\n",
       "        text-align: right;\n",
       "    }\n",
       "</style>\n",
       "<table border=\"1\" class=\"dataframe\">\n",
       "  <thead>\n",
       "    <tr style=\"text-align: right;\">\n",
       "      <th></th>\n",
       "      <th>Mean of the integrated profile</th>\n",
       "      <th>Standard deviation of the integrated profile</th>\n",
       "      <th>Excess kurtosis of the integrated profile</th>\n",
       "      <th>Skewness of the integrated profile</th>\n",
       "      <th>Mean of the DM-SNR curve</th>\n",
       "      <th>Standard deviation of the DM-SNR curve</th>\n",
       "      <th>Excess kurtosis of the DM-SNR curve</th>\n",
       "      <th>Skewness of the DM-SNR curve</th>\n",
       "    </tr>\n",
       "  </thead>\n",
       "  <tbody>\n",
       "    <tr>\n",
       "      <th>0</th>\n",
       "      <td>116.906250</td>\n",
       "      <td>48.920605</td>\n",
       "      <td>0.186046</td>\n",
       "      <td>-0.129815</td>\n",
       "      <td>3.037625</td>\n",
       "      <td>17.737102</td>\n",
       "      <td>8.122621</td>\n",
       "      <td>78.813405</td>\n",
       "    </tr>\n",
       "    <tr>\n",
       "      <th>1</th>\n",
       "      <td>75.585938</td>\n",
       "      <td>34.386254</td>\n",
       "      <td>2.025498</td>\n",
       "      <td>8.652913</td>\n",
       "      <td>3.765050</td>\n",
       "      <td>21.897049</td>\n",
       "      <td>7.048189</td>\n",
       "      <td>55.878791</td>\n",
       "    </tr>\n",
       "    <tr>\n",
       "      <th>2</th>\n",
       "      <td>103.273438</td>\n",
       "      <td>46.996628</td>\n",
       "      <td>0.504295</td>\n",
       "      <td>0.821088</td>\n",
       "      <td>2.244983</td>\n",
       "      <td>15.622566</td>\n",
       "      <td>9.330498</td>\n",
       "      <td>105.134941</td>\n",
       "    </tr>\n",
       "    <tr>\n",
       "      <th>3</th>\n",
       "      <td>101.078125</td>\n",
       "      <td>48.587487</td>\n",
       "      <td>1.011427</td>\n",
       "      <td>1.151870</td>\n",
       "      <td>81.887960</td>\n",
       "      <td>81.464136</td>\n",
       "      <td>0.485105</td>\n",
       "      <td>-1.117904</td>\n",
       "    </tr>\n",
       "    <tr>\n",
       "      <th>4</th>\n",
       "      <td>113.226562</td>\n",
       "      <td>48.608804</td>\n",
       "      <td>0.291538</td>\n",
       "      <td>0.292120</td>\n",
       "      <td>6.291806</td>\n",
       "      <td>26.585056</td>\n",
       "      <td>4.540138</td>\n",
       "      <td>21.708268</td>\n",
       "    </tr>\n",
       "  </tbody>\n",
       "</table>\n",
       "</div>"
      ],
      "text/plain": [
       "   Mean of the integrated profile  \\\n",
       "0                      116.906250   \n",
       "1                       75.585938   \n",
       "2                      103.273438   \n",
       "3                      101.078125   \n",
       "4                      113.226562   \n",
       "\n",
       "   Standard deviation of the integrated profile  \\\n",
       "0                                     48.920605   \n",
       "1                                     34.386254   \n",
       "2                                     46.996628   \n",
       "3                                     48.587487   \n",
       "4                                     48.608804   \n",
       "\n",
       "   Excess kurtosis of the integrated profile  \\\n",
       "0                                   0.186046   \n",
       "1                                   2.025498   \n",
       "2                                   0.504295   \n",
       "3                                   1.011427   \n",
       "4                                   0.291538   \n",
       "\n",
       "   Skewness of the integrated profile  Mean of the DM-SNR curve  \\\n",
       "0                           -0.129815                  3.037625   \n",
       "1                            8.652913                  3.765050   \n",
       "2                            0.821088                  2.244983   \n",
       "3                            1.151870                 81.887960   \n",
       "4                            0.292120                  6.291806   \n",
       "\n",
       "   Standard deviation of the DM-SNR curve  \\\n",
       "0                               17.737102   \n",
       "1                               21.897049   \n",
       "2                               15.622566   \n",
       "3                               81.464136   \n",
       "4                               26.585056   \n",
       "\n",
       "   Excess kurtosis of the DM-SNR curve  Skewness of the DM-SNR curve  \n",
       "0                             8.122621                     78.813405  \n",
       "1                             7.048189                     55.878791  \n",
       "2                             9.330498                    105.134941  \n",
       "3                             0.485105                     -1.117904  \n",
       "4                             4.540138                     21.708268  "
      ]
     },
     "execution_count": 6,
     "metadata": {},
     "output_type": "execute_result"
    }
   ],
   "source": [
    "from scipy.stats.mstats import winsorize\n",
    "\n",
    "# Winsorizing each feature separately at 1% and 98% percentiles\n",
    "for column in df_imputed.columns[:-1]:  # Exclude the target_class\n",
    "    df_imputed[column] = winsorize(df_imputed[column], limits=[0.01, 0.02])\n",
    "\n",
    "# Check the first few rows to ensure the transformation was applied\n",
    "df_imputed.head()"
   ]
  },
  {
   "cell_type": "code",
   "execution_count": 7,
   "metadata": {},
   "outputs": [],
   "source": [
    "from sklearn.preprocessing import StandardScaler\n",
    "\n",
    "# Standardizing the features\n",
    "scaler = StandardScaler()\n",
    "X_scaled = scaler.fit_transform(df_imputed)\n",
    "\n",
    "# Creating a new DataFrame with the standardized features\n",
    "df_imputed_scaled = pd.DataFrame(X_scaled, columns=X.columns)\n"
   ]
  },
  {
   "cell_type": "code",
   "execution_count": 8,
   "metadata": {},
   "outputs": [
    {
     "data": {
      "text/plain": [
       "Excess kurtosis of the integrated profile    2.087595\n",
       "Skewness of the integrated profile           3.218994\n",
       "Mean of the DM-SNR curve                     2.873191\n",
       "Standard deviation of the DM-SNR curve       0.982696\n",
       "Skewness of the DM-SNR curve                 1.181343\n",
       "dtype: float64"
      ]
     },
     "execution_count": 8,
     "metadata": {},
     "output_type": "execute_result"
    }
   ],
   "source": [
    "# Features to transform due to high skewness\n",
    "features_to_transform = [\n",
    "    ' Excess kurtosis of the integrated profile',\n",
    "    ' Skewness of the integrated profile',\n",
    "    ' Mean of the DM-SNR curve',\n",
    "    ' Standard deviation of the DM-SNR curve',\n",
    "    ' Skewness of the DM-SNR curve'\n",
    "]\n",
    "\n",
    "# Applying square root transformation to selected features\n",
    "for feature in features_to_transform:\n",
    "    df_imputed_scaled[feature] = df_imputed_scaled[feature].apply(lambda x: np.sqrt(np.abs(x)))\n",
    "\n",
    "# Recalculating skewness after transformation\n",
    "new_skewness = df_imputed_scaled[features_to_transform].skew()\n",
    "\n",
    "# Displaying the new skewness values\n",
    "new_skewness"
   ]
  },
  {
   "cell_type": "code",
   "execution_count": 9,
   "metadata": {},
   "outputs": [],
   "source": [
    "# Adding the target variable back to the DataFrame\n",
    "df_imputed_scaled['target_class'] = y.values\n",
    "\n",
    "# saving the processed file\n",
    "df_imputed_scaled.to_csv(\"../Datasets/Processed_data/pulsar_data_test_processed.csv\", index=False)"
   ]
  }
 ],
 "metadata": {
  "kernelspec": {
   "display_name": "Python 3",
   "language": "python",
   "name": "python3"
  },
  "language_info": {
   "codemirror_mode": {
    "name": "ipython",
    "version": 3
   },
   "file_extension": ".py",
   "mimetype": "text/x-python",
   "name": "python",
   "nbconvert_exporter": "python",
   "pygments_lexer": "ipython3",
   "version": "3.11.8"
  }
 },
 "nbformat": 4,
 "nbformat_minor": 2
}
